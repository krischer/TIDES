{
 "cells": [
  {
   "cell_type": "markdown",
   "metadata": {},
   "source": [
    "<div style=\"background-image:url(instaseis_images/bertinoro.jpg); padding: 10px 30px 20px 30px; background-size:cover; background-opacity:50%; border-radius:5px\">\n",
    "<p style=\"float:right; margin-top:20px; padding: 20px 60px 0px 10px; background:rgba(255,255,255,0.75); border-radius:10px;\">\n",
    "<img width=\"400px\" src=instaseis_images/logo.png>\n",
    "</p>\n",
    "\n",
    "<h1 style=\"color:#333\">First TIDES Training School</h1>\n",
    "<h5 style=\"color:#FFF\">Bertinoro (FC), Italy, June 1-5 2015</h5>\n",
    "\n",
    "<h2 style=\"color:#EEE\">Day 4: Instaseis Tutorial</h2>\n",
    "\n",
    "<h3 style=\"color:#FFF\">Martin van Driel and Lion Krischer</h3>\n",
    "</div>"
   ]
  },
  {
   "cell_type": "markdown",
   "metadata": {},
   "source": [
    "**Goal of the Practical:** To be able to calculate seismograms on a 1D background model with [Instaseis](http://www.instaseis.net), assuming the Green's function database computed with [AxiSEM](http://www.axisem.info) is provided.\n",
    "\n",
    "\n",
    "**Tentative Timetable:**\n",
    "\n",
    "* [10 min] Introduction and getting everyone on the same page\n",
    "* [10 min] Instaseis GUI\n",
    "* [40 min] Python API intro and basic exercise (everybody should do this): use Instaseis to compute seismograms for the same earthquakes and stations as the last days.\n",
    "* [30 - x min] Advanced exercises: some fun stuff to choose from"
   ]
  },
  {
   "cell_type": "markdown",
   "metadata": {},
   "source": [
    "**Basic Tasks:**\n",
    "\n",
    "* Play with GUI: mechanism, depth, location, arrival times...\n",
    "* Calculate synthetics for the given events and stations\n",
    "\n",
    "**Advanced Tasks (choose one):**\n",
    "\n",
    "* Plot record section\n",
    "* Finite Source, compare to point source solution\n",
    "* Automatic discrimation between meteorite impacts and quakes"
   ]
  },
  {
   "cell_type": "markdown",
   "metadata": {},
   "source": [
    "## Exercise 1: Play around with the GUI\n",
    "\n",
    "The GUI is great tool to teach and observe basic properties of seismograms. Launch it by entering\n",
    "\n",
    "```bash\n",
    "$ python -m instaseis.gui\n",
    "```\n",
    "\n",
    "in a shell.\n",
    "\n",
    "<img style=\"width:60%\" src=\"instaseis_images/GUI_screenshot.png\"></img>\n",
    "\n",
    "\n",
    "#### Tasks:\n",
    "\n",
    "1. Modify the source depth for a source at teleseismic distance; observe how surface waves behave.\n",
    "2. Observe how the polarity of the first arrivals flips when crossing nodal planes of a double couple source.\n",
    "3. Observe triplicated phases for shallow sources (probably impossible with 20s database)\n",
    "4. Observe the Hilbert transformed shape of reflected phases."
   ]
  },
  {
   "cell_type": "markdown",
   "metadata": {},
   "source": [
    "-----\n",
    "\n",
    "Basic lines to set up the notebook and some paths."
   ]
  },
  {
   "cell_type": "code",
   "execution_count": null,
   "metadata": {
    "collapsed": false
   },
   "outputs": [],
   "source": [
    "%pylab inline\n",
    "from __future__ import print_function\n",
    "import matplotlib.pylab as plt\n",
    "import os\n",
    "import obspy\n",
    "plt.style.use('ggplot')\n",
    "pylab.rcParams['figure.figsize'] = (10.0, 8.0)\n",
    "\n",
    "event_folder = os.path.join(\"data\", \"events\")\n",
    "stations_folder = os.path.join(\"data\", \"stations\")\n",
    "quakeml_folder = os.path.join(event_folder, \"quakeml\")\n",
    "cmtsolutions_folder = os.path.join(event_folder, \"cmtsolutions\")\n",
    "finite_source_folder = os.path.join(event_folder, \"finite_source\")"
   ]
  },
  {
   "cell_type": "markdown",
   "metadata": {},
   "source": [
    "-----"
   ]
  },
  {
   "cell_type": "markdown",
   "metadata": {},
   "source": [
    "## Basic Instaseis API Introduction\n",
    "\n",
    "Please also have a look at our webpage - http://www.instaseis.net/ - where everything is documented extensively.\n",
    "\n",
    "### Opening a Database\n",
    "\n",
    "Before you can get going you have to (as always in Python) import `instaseis`."
   ]
  },
  {
   "cell_type": "code",
   "execution_count": null,
   "metadata": {
    "collapsed": false
   },
   "outputs": [],
   "source": [
    "import instaseis"
   ]
  },
  {
   "cell_type": "markdown",
   "metadata": {},
   "source": [
    "An Instaseis database must be opened before it can be used. Please keep in mind that this is by far the most expensive operation in Instaseis so you want to limit how often you do it. There are a couple of optional parameters here, for now the defaults are fine.\n",
    "\n",
    "The virtual box has a database at\n",
    "\n",
    "**/home/tides/Desktop/data/instaseis_db**"
   ]
  },
  {
   "cell_type": "code",
   "execution_count": null,
   "metadata": {
    "collapsed": false
   },
   "outputs": [],
   "source": [
    "db = instaseis.open_db(\"/home/tides/Desktop/data/instaseis_db\")"
   ]
  },
  {
   "cell_type": "markdown",
   "metadata": {},
   "source": [
    "Some basic information about the loaded database can be reviewed by just printing it."
   ]
  },
  {
   "cell_type": "code",
   "execution_count": null,
   "metadata": {
    "collapsed": false
   },
   "outputs": [],
   "source": [
    "print(db)"
   ]
  },
  {
   "cell_type": "markdown",
   "metadata": {},
   "source": [
    "From this you can already glance a couple of aspects of the database used for this tutorial:\n",
    "\n",
    "* uses ak135f as its 1D model\n",
    "* is accurate for periods down to 20 seconds\n",
    "* includes vertical and horizontal components\n",
    "* sources can have depths ranging from 0 to 150 km\n",
    "* one hour long seismograms"
   ]
  },
  {
   "cell_type": "markdown",
   "metadata": {},
   "source": [
    "### Receivers and Sources\n",
    "\n",
    "Instaseis calculates seismograms for any source and receiver pair. A receiver has coordinates and optionally network and station codes. Using a reciprocal database, all receivers are assumed to be at the same depth, i.e. usually at the Earth surface."
   ]
  },
  {
   "cell_type": "code",
   "execution_count": null,
   "metadata": {
    "collapsed": false
   },
   "outputs": [],
   "source": [
    "rec = instaseis.Receiver(latitude=44.06238, longitude=10.59698,\n",
    "                         network=\"IV\", station=\"BDI\")\n",
    "print(rec)"
   ]
  },
  {
   "cell_type": "markdown",
   "metadata": {},
   "source": [
    "Sources are naturally a bit more complex and Instaseis offers a variety of ways to define them. A straightforward way for earthquakes is to pass coordinates, moment as well as strike, dip and rake."
   ]
  },
  {
   "cell_type": "code",
   "execution_count": null,
   "metadata": {
    "collapsed": false
   },
   "outputs": [],
   "source": [
    "src = instaseis.Source.from_strike_dip_rake(\n",
    "    latitude=27.77, longitude=85.37, depth_in_m=12000.0,\n",
    "    M0=1e+21, strike=32., dip=62., rake=90.)\n",
    "print(src)"
   ]
  },
  {
   "cell_type": "markdown",
   "metadata": {},
   "source": [
    "**Sidenode:** The moment tensor can be visualized using the Beachball function from obspy.imaging:"
   ]
  },
  {
   "cell_type": "code",
   "execution_count": null,
   "metadata": {
    "collapsed": false,
    "scrolled": true
   },
   "outputs": [],
   "source": [
    "from obspy.imaging.beachball import Beachball\n",
    "\n",
    "mt = src.tensor / src.M0 # normalize the tensor to avoid problems in the plotting\n",
    "Beachball(mt, size=200, linewidth=2, facecolor='b');"
   ]
  },
  {
   "cell_type": "markdown",
   "metadata": {},
   "source": [
    "Now we are ready to extract synthetic seismograms from the database:"
   ]
  },
  {
   "cell_type": "code",
   "execution_count": null,
   "metadata": {
    "collapsed": false
   },
   "outputs": [],
   "source": [
    "st = db.get_seismograms(source=src, receiver=rec)\n",
    "st.plot();"
   ]
  },
  {
   "cell_type": "markdown",
   "metadata": {},
   "source": [
    "**Done** This is all you need for a basic usage of Instaseis!"
   ]
  },
  {
   "cell_type": "markdown",
   "metadata": {},
   "source": [
    "## Basic Exercise\n",
    "\n",
    "**Task:** Calculate three component synthetics for the stations and events used on Monday and today and save them on disc in an organized manner so that you can work with them tomorrow."
   ]
  },
  {
   "cell_type": "markdown",
   "metadata": {},
   "source": [
    "#### Notes\n",
    "\n",
    "1. Receiver objects can also be created from StationXML, SEED, or STATIONS files as well as obpy inventories using `instaseis.Receiver.parse()`; see the [documentation](http://www.instaseis.net/source.html#receiver) for details.\n",
    "2. Source objects can also be created from QuakeML, CMTSOLUTIONS, and in other ways using `instaseis.Source.parse()`; see the [documentation](http://www.instaseis.net/source.html#source) for details.\n",
    "3. The `get_seismograms()` method has a couple of extra arguments:\n",
    "  * `kind`: `displacement`, `velocity`, `acceleration`\n",
    "  * `remove_source_shift`, `reconvolve_stf`, `dt`,\n",
    "  \n",
    "  ... see the [documentation](http://www.instaseis.net/instaseis.html#instaseis.base_instaseis_db.BaseInstaseisDB.get_seismograms) for details.\n",
    "4. You can use the properties of the Receiver and Source objects to create usefull filenames."
   ]
  },
  {
   "cell_type": "markdown",
   "metadata": {},
   "source": [
    "### 1. Load Receivers\n",
    "\n",
    "**reminder:** you can use ObsPy to load stations and plot a map:"
   ]
  },
  {
   "cell_type": "code",
   "execution_count": null,
   "metadata": {
    "collapsed": false
   },
   "outputs": [],
   "source": [
    "from obspy import read_inventory\n",
    "\n",
    "station_filename = os.path.join(stations_folder, \"all_stations.xml\")\n",
    "\n",
    "inventory = read_inventory(station_filename)\n",
    "inventory.plot(projection=\"local\", resolution=\"i\");"
   ]
  },
  {
   "cell_type": "markdown",
   "metadata": {},
   "source": [
    "This inventory can directly be used as input to generate `instaseis.Receiver` objects:"
   ]
  },
  {
   "cell_type": "code",
   "execution_count": null,
   "metadata": {
    "collapsed": false
   },
   "outputs": [],
   "source": [
    "receivers = instaseis.Receiver.parse(inventory)\n",
    "for rec in receivers[:2]:\n",
    "    print(rec)"
   ]
  },
  {
   "cell_type": "markdown",
   "metadata": {},
   "source": [
    "**Alternatively**, instaseis can directly open the station xml or STATIONS file (but then you don't have the nice plot):"
   ]
  },
  {
   "cell_type": "code",
   "execution_count": null,
   "metadata": {
    "collapsed": false
   },
   "outputs": [],
   "source": [
    "receivers = instaseis.Receiver.parse(os.path.join(stations_folder, \"all_stations.xml\"))\n",
    "print(receivers[0])\n",
    "receivers = instaseis.Receiver.parse(os.path.join(stations_folder, \"STATIONS\"))\n",
    "print(receivers[0])"
   ]
  },
  {
   "cell_type": "markdown",
   "metadata": {},
   "source": [
    "### 2. Load Events\n",
    "**reminder:** use ObsPy to load events from a QuakeML file containing all events and plot a map:"
   ]
  },
  {
   "cell_type": "code",
   "execution_count": null,
   "metadata": {
    "collapsed": false
   },
   "outputs": [],
   "source": [
    "import glob # provides iterator to loop over files\n",
    "\n",
    "cat = obspy.core.event.Catalog()\n",
    "\n",
    "for filename in glob.iglob(os.path.join(quakeml_folder, '*.xml')):\n",
    "     cat += obspy.readEvents(filename)\n",
    "        \n",
    "print(cat)\n",
    "print(instaseis.Source.parse(cat.events[0]))\n",
    "cat.plot();"
   ]
  },
  {
   "cell_type": "markdown",
   "metadata": {},
   "source": [
    "**Alternatively** load QuakeML or CMTSOLUTION files directly using `instaseis.Source.parse()` and store the sources in a list:"
   ]
  },
  {
   "cell_type": "code",
   "execution_count": null,
   "metadata": {
    "collapsed": false,
    "scrolled": false
   },
   "outputs": [],
   "source": [
    "sources = []\n",
    "\n",
    "for filename in glob.iglob(os.path.join(quakeml_folder, '*.xml')):\n",
    "    sources.append(instaseis.Source.parse(filename))\n",
    "    \n",
    "print(sources[0])\n",
    "\n",
    "for filename in glob.iglob(os.path.join(cmtsolutions_folder, '*')):\n",
    "    sources.append(instaseis.Source.parse(filename))\n",
    "\n",
    "print(sources[0])"
   ]
  },
  {
   "cell_type": "markdown",
   "metadata": {},
   "source": [
    "### 3. Extract Seismograms and Save to File"
   ]
  },
  {
   "cell_type": "markdown",
   "metadata": {},
   "source": [
    "For the first solution using a ObsPy event catalog:"
   ]
  },
  {
   "cell_type": "code",
   "execution_count": null,
   "metadata": {
    "collapsed": false
   },
   "outputs": [],
   "source": [
    "dt = 1.0\n",
    "\n",
    "for event in cat:\n",
    "    src = instaseis.Source.parse(event)\n",
    "    srcname = '%s_Mw_%3.1f' % (src.origin_time.date, src.moment_magnitude)\n",
    "    for rec in receivers:\n",
    "        # create a usefull filename\n",
    "        recname = '%s_%s' % (rec.network, rec.station)\n",
    "        filename = '%s_%s' % (recname, srcname)\n",
    "        filename = filename.replace('.', '_')\n",
    "        \n",
    "        # extract seismograms using instaseis\n",
    "\n",
    "        \n",
    "        # write to miniseed files in the data_out folder. Write as MiniSEED due to multi\n",
    "        # component support.\n"
   ]
  },
  {
   "cell_type": "markdown",
   "metadata": {},
   "source": [
    "For the second solution use a list of sources:"
   ]
  },
  {
   "cell_type": "code",
   "execution_count": null,
   "metadata": {
    "collapsed": false
   },
   "outputs": [],
   "source": [
    "dt = 1.0\n",
    "\n",
    "for src in sources:\n",
    "    srcname = '%s_Mw_%3.1f' % (src.origin_time.date, src.moment_magnitude)\n",
    "    for rec in receivers:\n",
    "        # create a usefull filename\n",
    "        recname = '%s_%s' % (rec.network, rec.station)\n",
    "        filename = '%s_%s' % (recname, srcname)\n",
    "        filename = filename.replace('.', '_')\n",
    "        \n",
    "        # extract seismograms using instaseis\n",
    "\n",
    "        \n",
    "        # write to miniseed files in the data_out folder. Write as MiniSEED due to multi\n",
    "        # component support.\n"
   ]
  },
  {
   "cell_type": "markdown",
   "metadata": {},
   "source": [
    "## Advanced Exercise 1: Plot Record Section\n",
    "\n",
    "Use `Instaseis` to calculate a record section of your choice.\n",
    "\n",
    "![image](./instaseis_images/record_section.png)\n",
    "\n",
    "#### Notes\n",
    "\n",
    "1. ObsPy Trace objects provide a function `times()` to conveniently get the time axis for plotting and the `normalize()` function to normalize seismograms to a common amplitude.\n",
    "2. Use high pass filtering and deep sources if you want to enhance body waves\n",
    "3. `np.linspace()` can help to generate equidistant stations\n",
    "4. `obspy.taup.TauPyModel` can be used to compare with ray theoretical arrivals"
   ]
  },
  {
   "cell_type": "code",
   "execution_count": null,
   "metadata": {
    "collapsed": false,
    "scrolled": true
   },
   "outputs": [],
   "source": []
  },
  {
   "cell_type": "markdown",
   "metadata": {},
   "source": [
    "### Advanced Exercise 2: Finite Source Effects\n",
    "\n",
    "For earthquakes with Magnitude up to about 5 recorded at teleseismic distances, approximating the fault by a point source is a reasonable approach. However, for larger earthquakes with longer rupture duration this approximation is not valid anymore. In this exercise, you will compare the point source approximation with finite source solutions to understand its limitations.\n",
    "\n",
    "For three of the earthquakes we use in this tutorial, USGS provides finite fault solutions: \n",
    "the recent event in [Nepal](http://earthquake.usgs.gov/earthquakes/eventpage/us20002926#scientific_finitefault),\n",
    "the largest [aftershock](http://earthquake.usgs.gov/earthquakes/eventpage/us20002ejl#scientific_finitefault)\n",
    "and the one in [Chile](http://earthquake.usgs.gov/earthquakes/eventpage/usc000nzvd#scientific_finitefault). This is the fault solution and slip as a function of time for the Nepal M7.9 event:"
   ]
  },
  {
   "cell_type": "markdown",
   "metadata": {},
   "source": [
    "<p style=\"float: left; font-size: 9pt; text-align: center; width: 49%; margin-right: 1%; margin-bottom: 0.5em;\"><img src=\"instaseis_images/finite_source_fault.png\" style=\"width: 100%\">Fault representation (image: USGS)</p><p style=\"float: right; font-size: 9pt; text-align: center; width: 49%; margin-right: 1%; margin-bottom: 0.5em;\"><img src=\"instaseis_images/finite_source_stf.png\" style=\"width: 100%\">Source Time Function (image: USGS)</p><p style=\"clear: both;\">"
   ]
  },
  {
   "cell_type": "markdown",
   "metadata": {},
   "source": [
    "In Instaseis, a finite fault is represented as set of point sources, where each point source represents one of the fault patches with individual source time function. This functionality is provided by the `instaseis.FiniteSource` object [(see Documentation)](http://instaseis.net/source.html#instaseis.source.FiniteSource). It can be initialized in two ways: from a list of point sources, or more conveniently by reading \\*.param files provided by USGS or standard rupture format (\\*.srf) files (these can also be used in the GUI)."
   ]
  },
  {
   "cell_type": "code",
   "execution_count": null,
   "metadata": {
    "collapsed": false,
    "scrolled": true
   },
   "outputs": [],
   "source": [
    "finite_source = instaseis.FiniteSource.from_usgs_param_file(\n",
    "    os.path.join(finite_source_folder,\n",
    "                 \"FINITE_SOURCE_2015_05_12__Mw_7_2_Nepal.param\"))\n",
    "print(finite_source)"
   ]
  },
  {
   "cell_type": "markdown",
   "metadata": {},
   "source": [
    "A point source can be computed as a sum of all point sources weighted by their moment:"
   ]
  },
  {
   "cell_type": "code",
   "execution_count": null,
   "metadata": {
    "collapsed": false
   },
   "outputs": [],
   "source": [
    "finite_source.compute_centroid()\n",
    "print(finite_source.CMT)"
   ]
  },
  {
   "cell_type": "markdown",
   "metadata": {},
   "source": [
    "The hypo- and epicenter can be found as the fault patch that ruptures first:"
   ]
  },
  {
   "cell_type": "code",
   "execution_count": null,
   "metadata": {
    "collapsed": false
   },
   "outputs": [],
   "source": [
    "finite_source.find_hypocenter()\n",
    "print('hypocenter latitude:', finite_source.hypocenter_latitude,\n",
    "      'longitude:', finite_source.hypocenter_longitude,\n",
    "      'depth:', finite_source.hypocenter_depth_in_m / 1e3)"
   ]
  },
  {
   "cell_type": "markdown",
   "metadata": {},
   "source": [
    "**Task:** Compare the seismograms for three different representations of the source: \n",
    "\n",
    "* A point source with simple gaussian source time function (using CMTSOLUTION or quakeml files),\n",
    "* the CMT solution using the more complex source time function provided by `finite_source.CMT`\n",
    "* the full finite source solution using the `FiniteSource` object and `db.get_seismograms_finite_source()`\n",
    "\n",
    "**Note:** First, you have to adapt the sampling of the source time functions in the finite source to the database, which works like this:"
   ]
  },
  {
   "cell_type": "code",
   "execution_count": null,
   "metadata": {
    "collapsed": false
   },
   "outputs": [],
   "source": [
    "# reloading finite source here to be sure to have a clean source time function\n",
    "finite_source = instaseis.FiniteSource.from_usgs_param_file(\n",
    "    os.path.join(finite_source_folder,\n",
    "                 \"FINITE_SOURCE_2015_04_25__Mw_7_9_Nepal.param\"))\n",
    "\n",
    "# prepare the source time functions to be at the same sampling as the database\n",
    "# first use enough samples such that the lowpassed stf will still be correctly represented\n",
    "nsamp = int(db.info.period / finite_source[0].dt) * 50\n",
    "finite_source.resample_sliprate(dt=finite_source[0].dt, nsamp=nsamp)\n",
    "# lowpass to avoid aliasing\n",
    "finite_source.lp_sliprate(freq=1.0/db.info.period)\n",
    "# finally resample to the sampling as the database\n",
    "finite_source.resample_sliprate(dt=db.info.dt, nsamp=db.info.npts)\n",
    "\n",
    "finite_source.compute_centroid()"
   ]
  },
  {
   "cell_type": "markdown",
   "metadata": {},
   "source": [
    "**Solution**"
   ]
  },
  {
   "cell_type": "code",
   "execution_count": null,
   "metadata": {
    "collapsed": false
   },
   "outputs": [],
   "source": [
    "simple_source = instaseis.Source.parse(\n",
    "    os.path.join(quakeml_folder, \"GCMT_2015_04_25__Mw_7_9.xml\"))\n",
    "\n"
   ]
  },
  {
   "cell_type": "markdown",
   "metadata": {},
   "source": [
    "### Advanced Exercise 3: Spectra of Earthquake Source vs Meteorite Impact\n",
    "\n",
    "The Mars [Insight Mission](http://insight.jpl.nasa.gov/home.cfm), scheduled to launch on March 4th 2016 and send the first scientific data towards the end of the same year will place a single very broad band seismic station on Mars.\n",
    "\n",
    "<img style=\"width:60%\" src=\"instaseis_images/insight.jpeg\"></img>\n",
    "\n",
    "Your task is, to discriminate between marsquakes and meteorite impacts based on the spectral properties of the body waves: while displacement seismograms of body waves are expected to have a flat spectrum below a cutoff frequency depending on the magnitude for quakes, for impacts the spectrum is linear in the frequency. This behaviour is depicted in green here (modified from Aki & Richards, 2002): \n",
    "\n",
    "<img style=\"width:50%\" src=\"instaseis_images/spectra.png\"></img>\n",
    "\n",
    "The high frequency dependy (red) is a consequence of the finite source size and is not appropriately modeled using a point source approximation in Instaseis. Also, we only resolve periods longer than 20s in the TIDES database, so we will ignore this in the following.\n",
    "\n",
    "**Task:** First verify this behaviour using the [instaseis.ForceSource](http://instaseis.net/source.html#forcesource) to model imacts and then write a routine that automatically determines the event type."
   ]
  },
  {
   "cell_type": "code",
   "execution_count": null,
   "metadata": {
    "collapsed": false,
    "scrolled": true
   },
   "outputs": [],
   "source": [
    "rec = instaseis.Receiver(latitude=4.5, longitude=136.,\n",
    "                         network=\"XB\", station=\"ELSYN\")\n",
    "\n",
    "src_lon = 45.\n",
    "src_lat = 12.\n",
    "\n",
    "quake = instaseis.Source.from_strike_dip_rake(\n",
    "    latitude=src_lat, longitude=src_lon, depth_in_m=0.0,\n",
    "    M0=1e+17, strike=32., dip=62., rake=90.)\n",
    "\n",
    "impact = instaseis.ForceSource(\n",
    "    latitude=src_lat, longitude=src_lon, depth_in_m=0.0, f_r=1e15)\n",
    "\n",
    "tr_quake = db.get_seismograms(\n",
    "    source=quake, receiver=rec, components=('Z',))[0].normalize()\n",
    "tr_impact = db.get_seismograms(\n",
    "    source=impact, receiver=rec, components=('Z',))[0].normalize()\n",
    "tr_quake.plot()\n",
    "tr_impact.plot()"
   ]
  },
  {
   "cell_type": "markdown",
   "metadata": {},
   "source": [
    "Slice to the body wave time window, plot to make sure surface waves have not yet arrived. Taper to prepare for the fft."
   ]
  },
  {
   "cell_type": "code",
   "execution_count": null,
   "metadata": {
    "collapsed": false,
    "scrolled": false
   },
   "outputs": [],
   "source": [
    "from obspy.taup import TauPyModel\n",
    "from obspy.core.util.geodetics import locations2degrees\n",
    "\n",
    "m = TauPyModel(model=\"ak135\")\n",
    "\n",
    "# window length as first arrival time + 500 seconds\n",
    "dist = locations2degrees(src_lat, src_lon, rec.latitude, rec.longitude)\n",
    "first_arrival = m.get_travel_times(\n",
    "    distance_in_degree=dist,\n",
    "    source_depth_in_km=0, phase_list=[\"P\", \"Pdiff\"])[0].time\n",
    "\n",
    "wlen = first_arrival + 500.\n",
    "\n",
    "tr_quake_sl = tr_quake.slice(endtime=tr_quake.stats.starttime + wlen)\n",
    "tr_quake_sl.taper(max_percentage=0.05)\n",
    "\n",
    "tr_impact_sl = tr_impact.slice(endtime=tr_impact.stats.starttime + wlen)\n",
    "tr_impact_sl.taper(max_percentage=0.05)\n",
    "\n",
    "tr_quake_sl.plot()\n",
    "tr_impact_sl.plot()"
   ]
  },
  {
   "cell_type": "markdown",
   "metadata": {},
   "source": [
    "Compute spectra to check frequency dependence of the two event types."
   ]
  },
  {
   "cell_type": "code",
   "execution_count": null,
   "metadata": {
    "collapsed": false,
    "scrolled": false
   },
   "outputs": [],
   "source": []
  },
  {
   "cell_type": "markdown",
   "metadata": {},
   "source": [
    "Now put it all together to make an automated algorithm:"
   ]
  },
  {
   "cell_type": "code",
   "execution_count": null,
   "metadata": {
    "collapsed": false,
    "scrolled": false
   },
   "outputs": [],
   "source": [
    "from scipy.optimize import curve_fit\n",
    "\n",
    "# function to be fitted to detect linear dependence on frequency\n",
    "def fitFunc(f, a, b):\n",
    "    return a * f + b\n",
    "\n"
   ]
  }
 ],
 "metadata": {
  "kernelspec": {
   "display_name": "Python 3",
   "language": "python",
   "name": "python3"
  },
  "language_info": {
   "codemirror_mode": {
    "name": "ipython",
    "version": 3
   },
   "file_extension": ".py",
   "mimetype": "text/x-python",
   "name": "python",
   "nbconvert_exporter": "python",
   "pygments_lexer": "ipython3",
   "version": "3.4.3"
  }
 },
 "nbformat": 4,
 "nbformat_minor": 0
}
