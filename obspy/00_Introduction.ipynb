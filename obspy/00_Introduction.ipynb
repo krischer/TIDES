{
 "cells": [
  {
   "cell_type": "markdown",
   "metadata": {},
   "source": [
    "<div style=\"background-image:url(images/bertinoro.jpg); padding: 10px 30px 20px 30px; background-size:cover; background-opacity:50%; border-radius:5px\">\n",
    "<p style=\"float:right; margin-top:20px; padding: 20px 20px 0px 20px; background:rgba(255,255,255,0.6); border-radius:10px;\">\n",
    "<img width=\"400px\" src=images/obspy_logo_full_524x179px.png?raw=true>\n",
    "</p>\n",
    "\n",
    "<h1 style=\"color:#333\">First TIDES Training School</h1>\n",
    "<h5 style=\"color:#FFF\">Bertinoro (FC), Italy, June 1-5 2015</h5>\n",
    "\n",
    "<h3 style=\"color:#EEE\">Day 1: Data Acquisition and Processing with ObsPy</h3>\n",
    "\n",
    "<h2 style=\"color:#FFF\">Introduction/Index</h2>\n",
    "</div>"
   ]
  },
  {
   "cell_type": "markdown",
   "metadata": {},
   "source": [
    "Today will introduce you to Python and data processing with ObsPy with the purpose of downloading and preparing the data for the following days."
   ]
  },
  {
   "cell_type": "markdown",
   "metadata": {},
   "source": [
    "## Timetable/Contents\n",
    "\n",
    "1. **[Python Crash Course](01_Python_Crash_Course.ipynb)**  [30 Minutes]  -  *[[Solution]](01_Python_Crash_Course-with_solutions.ipynb)*\n",
    "2. **[Introduction to File Formats and read/write in ObsPy](02_File_Formats.ipynb)** [35 Minutes]  -  *[[Solution]](02_File_Formats-with_solutions.ipynb)*\n",
    "3. **[Handling Time](03_UTCDateTime.ipynb)** [15 Minutes]  -  *[[Solution]](03_UTCDateTime-with_solutions.ipynb)*\n",
    "4. **[Basic Downloading/Processing Exercise](04_Basic_Processing_Exercise.ipynb)** [20 Minutes]  -  *[[Solution]](04_Basic_Processing_Exercise-with_solutions.ipynb)*\n",
    "4. **[Download Events (IRIS SPUD, GCMT, FDSN)](05_Download_Events.ipynb)** [10 Minutes]\n",
    "5. **[Download Station Information and Waveforms](06_Download_Data_and_Stations.ipynb)**  [25 Minutes]  -  *[[Solution]](06_Download_Data_and_Stations-with_solutions.ipynb)*\n",
    "6. **[Process Earthquake Data](07_Process_Earthquake_Data.ipynb)**  [45 Minutes]  -  *[[Solution]](07_Process_Earthquake_Data-with_solutions.ipynb)*\n",
    "7. **[Preprocess Noise Data and Polarization](08_Preprocess_Noise_Data_Polarization.ipynb)** [40 Minutes]\n",
    "8. **[Plot Yearly Noise Spectrum Evolution](09_Plot_yearly_noise_spectrum_evolution.ipynb)** [20 Minutes]"
   ]
  },
  {
   "cell_type": "code",
   "execution_count": null,
   "metadata": {
    "collapsed": true
   },
   "outputs": [],
   "source": []
  }
 ],
 "metadata": {
  "kernelspec": {
   "display_name": "Python 3",
   "language": "python",
   "name": "python3"
  },
  "language_info": {
   "codemirror_mode": {
    "name": "ipython",
    "version": 3
   },
   "file_extension": ".py",
   "mimetype": "text/x-python",
   "name": "python",
   "nbconvert_exporter": "python",
   "pygments_lexer": "ipython3",
   "version": "3.4.3"
  }
 },
 "nbformat": 4,
 "nbformat_minor": 0
}
