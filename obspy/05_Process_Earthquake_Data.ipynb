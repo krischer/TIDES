{
 "cells": [
  {
   "cell_type": "markdown",
   "metadata": {},
   "source": [
    "<div style=\"background-image:url(images/bertinoro.jpg); padding: 10px 30px 20px 30px; background-size:cover; background-opacity:50%; border-radius:5px\">\n",
    "<p style=\"float:right; margin-top:20px; padding: 20px 20px 0px 20px; background:rgba(255,255,255,0.6); border-radius:10px;\">\n",
    "<img width=\"400px\" src=images/obspy_logo_full_524x179px.png?raw=true>\n",
    "</p>\n",
    "\n",
    "<h1 style=\"color:#333\">First TIDES Training School</h1>\n",
    "<h5 style=\"color:#FFF\">Bertinoro (FC), Italy, June 1-5 2015</h5>\n",
    "\n",
    "<h3 style=\"color:#EEE\">Day 1: Data Acquisition and Processing with ObsPy</h3>\n",
    "\n",
    "<h2 style=\"color:#FFF\">Process Earthquake Data</h2>\n",
    "</div>"
   ]
  },
  {
   "cell_type": "markdown",
   "metadata": {},
   "source": [
    "In this notebook we will use raw data from the datacenters and process it so it is suitable for further processing."
   ]
  },
  {
   "cell_type": "code",
   "execution_count": 1,
   "metadata": {
    "collapsed": false
   },
   "outputs": [
    {
     "name": "stdout",
     "output_type": "stream",
     "text": [
      "Populating the interactive namespace from numpy and matplotlib\n"
     ]
    }
   ],
   "source": [
    "%pylab inline\n",
    "from __future__ import print_function\n",
    "import matplotlib.pylab as plt\n",
    "plt.style.use('ggplot')\n",
    "plt.rcParams['figure.figsize'] = 12, 8"
   ]
  },
  {
   "cell_type": "markdown",
   "metadata": {},
   "source": [
    "The pre-downloaded data can be found in `~/Desktop/data/earthquake_data`"
   ]
  },
  {
   "cell_type": "code",
   "execution_count": 2,
   "metadata": {
    "collapsed": false
   },
   "outputs": [
    {
     "name": "stdout",
     "output_type": "stream",
     "text": [
      "total 28\r\n",
      "drwxr-xr-x 2 tides tides 4096 Mai 26 14:51 \u001b[0m\u001b[01;34mGCMT_2014_04_01__Mw_8_1\u001b[0m/\r\n",
      "drwxr-xr-x 2 tides tides 4096 Mai 26 14:51 \u001b[01;34mGCMT_2014_04_04__Mw_6_2\u001b[0m/\r\n",
      "drwxr-xr-x 2 tides tides 4096 Mai 26 14:51 \u001b[01;34mGCMT_2015_04_25__Mw_7_9\u001b[0m/\r\n",
      "drwxr-xr-x 2 tides tides 4096 Mai 26 14:51 \u001b[01;34mGCMT_2015_05_12__Mw_7_2\u001b[0m/\r\n",
      "drwxr-xr-x 2 tides tides 4096 Mai 26 14:51 \u001b[01;34mINGV_2012_05_29__Mw_5_6\u001b[0m/\r\n",
      "drwxr-xr-x 2 tides tides 4096 Mai 26 14:51 \u001b[01;34mINGV_2015_01_23__Mw_4_3\u001b[0m/\r\n",
      "drwxr-xr-x 2 tides tides 4096 Mai 26 16:03 \u001b[01;34mGCMT_2011_12_07__Mw_6_1\u001b[0m/\r\n"
     ]
    }
   ],
   "source": [
    "ls -lrt ~/Desktop/data/earthquake_data/waveforms"
   ]
  },
  {
   "cell_type": "code",
   "execution_count": 3,
   "metadata": {
    "collapsed": false
   },
   "outputs": [
    {
     "name": "stdout",
     "output_type": "stream",
     "text": [
      "total 2060\r\n",
      "-rw-r--r-- 1 tides tides   62265 Mai 14 01:31 IV_PESA.xml\r\n",
      "-rw-r--r-- 1 tides tides   43348 Mai 14 01:31 IV_CAVE.xml\r\n",
      "-rw-r--r-- 1 tides tides  106116 Mai 14 01:31 IV_BOB.xml\r\n",
      "-rw-r--r-- 1 tides tides  106128 Mai 14 01:31 IV_BDI.xml\r\n",
      "-rw-r--r-- 1 tides tides   13771 Mai 14 01:31 SI_LUSI.xml\r\n",
      "-rw-r--r-- 1 tides tides  196373 Mai 14 01:31 MN_VLC.xml\r\n",
      "-rw-r--r-- 1 tides tides   64202 Mai 14 01:31 IV_TEOL.xml\r\n",
      "-rw-r--r-- 1 tides tides  108069 Mai 14 01:31 IV_SALO.xml\r\n",
      "-rw-r--r-- 1 tides tides   43363 Mai 14 01:31 IV_PRMA.xml\r\n",
      "-rw-r--r-- 1 tides tides 1345846 Mai 14 01:31 all_stations.xml\r\n",
      "-rw-r--r-- 1 tides tides     351 Mai 14 01:31 STATIONS\r\n"
     ]
    }
   ],
   "source": [
    "ls -lrt ~/Desktop/data/earthquake_data/stations"
   ]
  },
  {
   "cell_type": "markdown",
   "metadata": {},
   "source": [
    "### Exercise: Process Data\n",
    "\n",
    "1. Read the raw waveform data for event `GCMT_2015_05_12__Mw_7_2` station for station.\n",
    "2. Read the corresponing station information.\n",
    "3. Remove the instrument response. Use the `pre_filt` for filtering the data.\n",
    "4. Decimate to 10 Hz."
   ]
  },
  {
   "cell_type": "code",
   "execution_count": null,
   "metadata": {
    "collapsed": true
   },
   "outputs": [],
   "source": []
  }
 ],
 "metadata": {
  "kernelspec": {
   "display_name": "Python 3",
   "language": "python",
   "name": "python3"
  },
  "language_info": {
   "codemirror_mode": {
    "name": "ipython",
    "version": 3
   },
   "file_extension": ".py",
   "mimetype": "text/x-python",
   "name": "python",
   "nbconvert_exporter": "python",
   "pygments_lexer": "ipython3",
   "version": "3.4.3"
  }
 },
 "nbformat": 4,
 "nbformat_minor": 0
}
