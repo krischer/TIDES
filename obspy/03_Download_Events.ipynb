{
 "cells": [
  {
   "cell_type": "markdown",
   "metadata": {},
   "source": [
    "<div style=\"background-image:url(images/bertinoro.jpg); padding: 10px 30px 20px 30px; background-size:cover; background-opacity:50%; border-radius:5px\">\n",
    "<p style=\"float:right; margin-top:20px; padding: 20px 20px 0px 20px; background:rgba(255,255,255,0.6); border-radius:10px;\">\n",
    "<img width=\"400px\" src=images/obspy_logo_full_524x179px.png?raw=true>\n",
    "</p>\n",
    "\n",
    "<h1 style=\"color:#333\">First TIDES Training School</h1>\n",
    "<h5 style=\"color:#FFF\">Bertinoro (FC), Italy, June 1-5 2015</h5>\n",
    "\n",
    "<h3 style=\"color:#EEE\">Day 1: Data Acquisition and Processing with ObsPy</h3>\n",
    "\n",
    "<h2 style=\"color:#FFF\">Download Events</h2>\n",
    "</div>"
   ]
  },
  {
   "cell_type": "markdown",
   "metadata": {},
   "source": [
    "## Event Data\n",
    "\n",
    "For the simulations on Thursday and the waveform comparision on Friday we will work with 6 events. This notebook teaches you how to download them.\n",
    "\n",
    "#### Italian Events from the INGV\n",
    "\n",
    "We will choose two local events with moment tensor solutions from the INGV.\n",
    "\n",
    "* 2012-05-29T07:00:02.880000Z, Mw: 5.6 event in Northern Italy\n",
    "* 2015-01-23T06:51:20.340000Z, Mw: 5.4 event in Bologna"
   ]
  },
  {
   "cell_type": "markdown",
   "metadata": {
    "collapsed": true
   },
   "source": [
    "#### Teleseismic Events from the GCMT Catalog\n",
    "\n",
    "We will furthermore chose four teleseismic events: The big Chile event from last year and one aftershock and the recent Nepal earthquake and its \"aftershock\" two weeks later.\n",
    "\n",
    "* 2014-04-01 23:46:47, Mw: 8.1 event near Northern Coast of Chile: http://ds.iris.edu/spud/momenttensor/9647147\n",
    "* 2014-04-04 01:37:50, Mw: 6.2 event near Northern Coast of Chile: http://ds.iris.edu/spud/momenttensor/9647207\n",
    "\n",
    "* 2015-04-25 06:11:26, Mw: 7.9 in Nepal: http://ds.iris.edu/spud/momenttensor/9925741\n",
    "* 2015-05-12 07:05:19, Mw: 7.2 in Nepal: http://ds.iris.edu/spud/momenttensor/9954411\n",
    "\n",
    "---"
   ]
  },
  {
   "cell_type": "code",
   "execution_count": null,
   "metadata": {
    "collapsed": false
   },
   "outputs": [],
   "source": [
    "%pylab inline\n",
    "from __future__ import print_function\n",
    "import matplotlib.pylab as plt\n",
    "plt.style.use('ggplot')\n",
    "plt.rcParams['figure.figsize'] = 12, 8"
   ]
  },
  {
   "cell_type": "markdown",
   "metadata": {},
   "source": [
    "---"
   ]
  },
  {
   "cell_type": "markdown",
   "metadata": {},
   "source": [
    "### FDSN Event Service\n",
    "\n",
    "The Italian events can be downloaded from the FDSN webservice of the INGV."
   ]
  },
  {
   "cell_type": "code",
   "execution_count": null,
   "metadata": {
    "collapsed": false
   },
   "outputs": [],
   "source": [
    "import obspy\n",
    "from obspy.fdsn import Client\n",
    "\n",
    "c = Client(\"INGV\")\n",
    "\n",
    "event_time_1 = obspy.UTCDateTime(\"2012-05-29T07:00:02.880000Z\")\n",
    "event_time_2 = obspy.UTCDateTime(\"2015-01-23T06:51:20.340000Z\")\n",
    "\n",
    "cat_1 = c.get_events(starttime=event_time_1 - 10, endtime=event_time_1 + 10)\n",
    "cat_2 = c.get_events(starttime=event_time_2 - 10, endtime=event_time_2 + 10)\n",
    "\n",
    "print(cat_1)\n",
    "print(cat_2)"
   ]
  },
  {
   "cell_type": "markdown",
   "metadata": {},
   "source": [
    "---\n",
    "\n",
    "### GCMT Events"
   ]
  },
  {
   "cell_type": "markdown",
   "metadata": {},
   "source": [
    "There is a bit of a black spot in terms of webservices right now as there is no proper way to query globally for events with moment tensors. We will thus use the IRIS SPUD website to get the event information:\n",
    "\n",
    "http://ds.iris.edu/spud/momenttensor\n",
    "\n",
    "\n",
    "* 2014-04-01 23:46:47, Mw: 8.1 event near Northern Coast of Chile: http://ds.iris.edu/spud/momenttensor/9647147\n",
    "* 2014-04-04 01:37:50, Mw: 6.2 event near Northern Coast of Chile: http://ds.iris.edu/spud/momenttensor/9647207\n",
    "* 2015-04-25 06:11:26, Mw: 7.9 in Nepal: http://ds.iris.edu/spud/momenttensor/9925741\n",
    "* 2015-05-12 07:05:19, Mw: 7.2 in Nepal: http://ds.iris.edu/spud/momenttensor/9954411\n",
    "\n",
    "You can either click on each link and download the QuakeML file or just use the already downloaded ones."
   ]
  },
  {
   "cell_type": "code",
   "execution_count": null,
   "metadata": {
    "collapsed": false
   },
   "outputs": [],
   "source": [
    "ls -l ~/Desktop/data/earthquake_data/events/quakeml"
   ]
  }
 ],
 "metadata": {
  "kernelspec": {
   "display_name": "Python 3",
   "language": "python",
   "name": "python3"
  },
  "language_info": {
   "codemirror_mode": {
    "name": "ipython",
    "version": 3
   },
   "file_extension": ".py",
   "mimetype": "text/x-python",
   "name": "python",
   "nbconvert_exporter": "python",
   "pygments_lexer": "ipython3",
   "version": "3.4.3"
  }
 },
 "nbformat": 4,
 "nbformat_minor": 0
}
