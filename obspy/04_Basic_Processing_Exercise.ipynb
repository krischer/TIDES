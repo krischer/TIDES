{
 "cells": [
  {
   "cell_type": "markdown",
   "metadata": {},
   "source": [
    "<div style=\"background-image:url(images/bertinoro.jpg); padding: 10px 30px 20px 30px; background-size:cover; background-opacity:50%; border-radius:5px\">\n",
    "<p style=\"float:right; margin-top:20px; padding: 20px 20px 0px 20px; background:rgba(255,255,255,0.6); border-radius:10px;\">\n",
    "<img width=\"400px\" src=images/obspy_logo_full_524x179px.png?raw=true>\n",
    "</p>\n",
    "\n",
    "<h1 style=\"color:#333\">First TIDES Training School</h1>\n",
    "<h5 style=\"color:#FFF\">Bertinoro (FC), Italy, June 1-5 2015</h5>\n",
    "\n",
    "<h3 style=\"color:#EEE\">Day 1: Data Acquisition and Processing with ObsPy</h3>\n",
    "\n",
    "<h2 style=\"color:#FFF\">Basic Downloading/Processing Exercise</h2>\n",
    "</div>"
   ]
  },
  {
   "cell_type": "markdown",
   "metadata": {},
   "source": [
    "For the this exercise we will download some data from the Tohoku-Oki earthquake, cut out a certain time window around the first arrival and remove the instrument response from the data."
   ]
  },
  {
   "cell_type": "code",
   "execution_count": null,
   "metadata": {
    "collapsed": false
   },
   "outputs": [],
   "source": [
    "%pylab inline\n",
    "from __future__ import print_function\n",
    "import matplotlib.pylab as plt\n",
    "plt.style.use('ggplot')\n",
    "plt.rcParams['figure.figsize'] = 12, 8"
   ]
  },
  {
   "cell_type": "markdown",
   "metadata": {},
   "source": [
    "The first step is to download all the necessary information using the ObsPy FDSN client.\n",
    "\n",
    "If that does not work due to network constraints, please use the following files (which have the same content):\n",
    "\n",
    "```\n",
    "data/tohoku.xml\n",
    "data/IV_BOB.xml\n",
    "data/IV_BOB.mseed\n",
    "```"
   ]
  },
  {
   "cell_type": "code",
   "execution_count": null,
   "metadata": {
    "collapsed": false
   },
   "outputs": [],
   "source": [
    "import obspy\n",
    "from obspy.fdsn import Client\n",
    "\n",
    "c = Client(\"INGV\")\n",
    "\n",
    "# Event time.\n",
    "event_time = obspy.UTCDateTime(\"2011-03-11T05:46:23.2\")\n",
    "\n",
    "# Get the event information. The temporal and magnitude constraints make it unique\n",
    "cat = c.get_events(starttime=event_time - 10, endtime=event_time + 10,\n",
    "                   minmagnitude=9)\n",
    "print(cat)\n",
    "\n",
    "# Download station information at the response level!\n",
    "inv = c.get_stations(network=\"IV\", station=\"BOB\", location=\"\", channel=\"BH?\",\n",
    "                     starttime=event_time - 60, endtime=event_time + 3600,\n",
    "                     level=\"response\")\n",
    "print(inv)\n",
    "\n",
    "# Download 3 component waveforms.\n",
    "st = c.get_waveforms(network=\"IV\", station=\"BOB\", location=\"\",\n",
    "                     channel=\"BH?\", starttime=event_time - 60,\n",
    "                     endtime=event_time + 3600)\n",
    "print(st)"
   ]
  },
  {
   "cell_type": "markdown",
   "metadata": {},
   "source": [
    "Have a look at the just downloaded data."
   ]
  },
  {
   "cell_type": "code",
   "execution_count": null,
   "metadata": {
    "collapsed": false
   },
   "outputs": [],
   "source": []
  },
  {
   "cell_type": "markdown",
   "metadata": {
    "collapsed": true
   },
   "source": [
    "## Exercise\n",
    "\n",
    "The goal of this exercise is to cut the data from 1 minute before the first arrival to 5 minutes after it, and then remove the instrument response.\n",
    "\n",
    "\n",
    "#### Step 1: Determine Coordinates of Station"
   ]
  },
  {
   "cell_type": "code",
   "execution_count": null,
   "metadata": {
    "collapsed": false
   },
   "outputs": [],
   "source": []
  },
  {
   "cell_type": "markdown",
   "metadata": {},
   "source": [
    "#### Step 2: Determine Coordinates of Event"
   ]
  },
  {
   "cell_type": "code",
   "execution_count": null,
   "metadata": {
    "collapsed": false
   },
   "outputs": [],
   "source": []
  },
  {
   "cell_type": "markdown",
   "metadata": {},
   "source": [
    "#### Step 3: Calculate distance of event and station.\n",
    "\n",
    "Use `obspy.core.util.geodetics.locations2degree`."
   ]
  },
  {
   "cell_type": "code",
   "execution_count": null,
   "metadata": {
    "collapsed": false
   },
   "outputs": [],
   "source": []
  },
  {
   "cell_type": "markdown",
   "metadata": {},
   "source": [
    "#### Step 4: Calculate Theoretical Arrivals\n",
    "\n",
    "```python\n",
    "from obspy.taup import TauPyModel\n",
    "m = TauPyModel(model=\"ak135\")\n",
    "arrivals = m.get_ray_paths(...)\n",
    "arrivals.plot()\n",
    "```"
   ]
  },
  {
   "cell_type": "code",
   "execution_count": null,
   "metadata": {
    "collapsed": false
   },
   "outputs": [],
   "source": []
  },
  {
   "cell_type": "markdown",
   "metadata": {},
   "source": [
    "#### Step 5: Calculate absolute time of the first arrivals at the station"
   ]
  },
  {
   "cell_type": "code",
   "execution_count": null,
   "metadata": {
    "collapsed": false
   },
   "outputs": [],
   "source": []
  },
  {
   "cell_type": "markdown",
   "metadata": {},
   "source": [
    "#### Step 6:  Cut to 1 minute before and 5 minutes after the first arrival"
   ]
  },
  {
   "cell_type": "code",
   "execution_count": null,
   "metadata": {
    "collapsed": false
   },
   "outputs": [],
   "source": []
  },
  {
   "cell_type": "markdown",
   "metadata": {},
   "source": [
    "#### Step 7: Remove the instrument response\n",
    "\n",
    "```python\n",
    "st.attach_response(inv)\n",
    "st.remove_response(pre_filt=...)\n",
    "```\n",
    "\n",
    "![taper](images/cos_taper.png)"
   ]
  },
  {
   "cell_type": "code",
   "execution_count": null,
   "metadata": {
    "collapsed": false
   },
   "outputs": [],
   "source": []
  },
  {
   "cell_type": "markdown",
   "metadata": {},
   "source": [
    "## Bonus: Interactive IPython widgets"
   ]
  },
  {
   "cell_type": "code",
   "execution_count": null,
   "metadata": {
    "collapsed": false
   },
   "outputs": [],
   "source": [
    "from IPython.html.widgets import interact\n",
    "from obspy.taup import TauPyModel\n",
    "\n",
    "m = TauPyModel(\"ak135\")\n",
    "\n",
    "def plot_raypaths(distance, depth, wavetype):\n",
    "    try:\n",
    "        plt.close()\n",
    "    except:\n",
    "        pass\n",
    "    if wavetype == \"ttall\":\n",
    "        phases = [\"ttall\"]\n",
    "    elif wavetype == \"diff\":\n",
    "        phases = [\"Pdiff\", \"pPdiff\"]\n",
    "    m.get_ray_paths(distance_in_degree=distance,\n",
    "                    source_depth_in_km=depth,\n",
    "                    phase_list=phases).plot();\n",
    "    \n",
    "interact(plot_raypaths, distance=[0, 180],\n",
    "         depth=[0, 700], wavetype=[\"ttall\", \"diff\"]);"
   ]
  }
 ],
 "metadata": {
  "kernelspec": {
   "display_name": "Python 3",
   "language": "python",
   "name": "python3"
  },
  "language_info": {
   "codemirror_mode": {
    "name": "ipython",
    "version": 3
   },
   "file_extension": ".py",
   "mimetype": "text/x-python",
   "name": "python",
   "nbconvert_exporter": "python",
   "pygments_lexer": "ipython3",
   "version": "3.4.3"
  }
 },
 "nbformat": 4,
 "nbformat_minor": 0
}
