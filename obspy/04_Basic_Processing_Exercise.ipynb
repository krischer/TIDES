{
 "cells": [
  {
   "cell_type": "markdown",
   "metadata": {},
   "source": [
    "<div style=\"background-image:url(images/bertinoro.jpg); padding: 10px 30px 20px 30px; background-size:cover; background-opacity:50%; border-radius:5px\">\n",
    "<p style=\"float:right; margin-top:20px; padding: 20px 20px 0px 20px; background:rgba(255,255,255,0.6); border-radius:10px;\">\n",
    "<img width=\"400px\" src=images/obspy_logo_full_524x179px.png?raw=true>\n",
    "</p>\n",
    "\n",
    "<h1 style=\"color:#333\">First TIDES Training School</h1>\n",
    "<h5 style=\"color:#FFF\">Bertinoro (FC), Italy, June 1-5 2015</h5>\n",
    "\n",
    "<h3 style=\"color:#EEE\">Day 1: Data Acquisition and Processing with ObsPy</h3>\n",
    "\n",
    "<h2 style=\"color:#FFF\">Basic Downloading/Processing Exercise</h2>\n",
    "</div>"
   ]
  },
  {
   "cell_type": "markdown",
   "metadata": {},
   "source": [
    "For the next exercise we will download some data from the Tohoku-Oki earthquake, cut out a certain time window around the first arrival and remove the instrument response from the data."
   ]
  },
  {
   "cell_type": "code",
   "execution_count": 1,
   "metadata": {
    "collapsed": false
   },
   "outputs": [
    {
     "name": "stdout",
     "output_type": "stream",
     "text": [
      "1 Event(s) in Catalog:\n",
      "2011-03-11T05:46:23.000000Z | +38.300, +142.500 | 9.0 Mw | manual\n"
     ]
    }
   ],
   "source": [
    "import obspy\n",
    "from obspy.fdsn import Client\n",
    "\n",
    "c = Client(\"INGV\")\n",
    "\n",
    "# Event time.\n",
    "event_time = obspy.UTCDateTime(\"2011-03-11T05:46:23.2\")\n",
    "\n",
    "\n",
    "cat = c.get_events(starttime=event_time - 10, endtime=event_time + 10,\n",
    "                   minmagnitude=9)\n",
    "\n",
    "print(cat)\n",
    "\n",
    "#inv = c.get_stations(network=\"TA\", station=\"637A\", level=\"response\")\n",
    "\n",
    "#st = c.get_waveforms(network=\"TA\", station=\"637A\", location=\"\",\n",
    "#                     channel=\"BH?\", starttime=event_time - 60,\n",
    "#                     endtime=event_time + 3600)"
   ]
  },
  {
   "cell_type": "code",
   "execution_count": null,
   "metadata": {
    "collapsed": true
   },
   "outputs": [],
   "source": []
  }
 ],
 "metadata": {
  "kernelspec": {
   "display_name": "Python 3",
   "language": "python",
   "name": "python3"
  },
  "language_info": {
   "codemirror_mode": {
    "name": "ipython",
    "version": 3
   },
   "file_extension": ".py",
   "mimetype": "text/x-python",
   "name": "python",
   "nbconvert_exporter": "python",
   "pygments_lexer": "ipython3",
   "version": "3.4.3"
  }
 },
 "nbformat": 4,
 "nbformat_minor": 0
}
