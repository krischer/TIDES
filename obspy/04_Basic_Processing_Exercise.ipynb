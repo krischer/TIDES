{
 "cells": [
  {
   "cell_type": "markdown",
   "metadata": {},
   "source": [
    "<div style=\"background-image:url(images/bertinoro.jpg); padding: 10px 30px 20px 30px; background-size:cover; background-opacity:50%; border-radius:5px\">\n",
    "<p style=\"float:right; margin-top:20px; padding: 20px 20px 0px 20px; background:rgba(255,255,255,0.6); border-radius:10px;\">\n",
    "<img width=\"400px\" src=images/obspy_logo_full_524x179px.png?raw=true>\n",
    "</p>\n",
    "\n",
    "<h1 style=\"color:#333\">First TIDES Training School</h1>\n",
    "<h5 style=\"color:#FFF\">Bertinoro (FC), Italy, June 1-5 2015</h5>\n",
    "\n",
    "<h3 style=\"color:#EEE\">Day 1: Data Acquisition and Processing with ObsPy</h3>\n",
    "\n",
    "<h2 style=\"color:#FFF\">Basic Downloading/Processing Exercise</h2>\n",
    "</div>"
   ]
  },
  {
   "cell_type": "markdown",
   "metadata": {},
   "source": [
    "For the next exercise we will download some data from the Tohoku-Oki earthquake, cut out a certain time window around the first arrival and remove the instrument response from the data."
   ]
  },
  {
   "cell_type": "code",
   "execution_count": 2,
   "metadata": {
    "collapsed": false
   },
   "outputs": [
    {
     "name": "stdout",
     "output_type": "stream",
     "text": [
      "1 Event(s) in Catalog:\n",
      "2011-03-11T05:46:23.000000Z | +38.300, +142.500 | 9.0 Mw | manual\n",
      "Inventory created at 2015-05-29T13:15:33.000000Z\n",
      "\tSending institution: SeisComP3 (INGV)\n",
      "\tContains:\n",
      "\t\tNetworks (1):\n",
      "\t\t\tIV\n",
      "\t\tStations (1):\n",
      "\t\t\tIV.BOB (BOBBIO)\n",
      "\t\tChannels (22):\n",
      "\t\t\tIV.BOB..BHE, IV.BOB..BHN, IV.BOB..BHZ, IV.BOB..HHE, IV.BOB..HHN,\n",
      "\t\t\tIV.BOB..HHZ, IV.BOB..HNE, IV.BOB..HNE, IV.BOB..HNE, IV.BOB..HNN,\n",
      "\t\t\tIV.BOB..HNN, IV.BOB..HNN, IV.BOB..HNZ, IV.BOB..HNZ, IV.BOB..HNZ,\n",
      "\t\t\tIV.BOB..LHE, IV.BOB..LHN, IV.BOB..LHZ, IV.BOB..SHZ, IV.BOB..VHE,\n",
      "\t\t\tIV.BOB..VHN, IV.BOB..VHZ\n",
      "3 Trace(s) in Stream:\n",
      "IV.BOB..BHE | 2011-03-11T05:45:14.325000Z - 2011-03-11T06:46:27.675000Z | 20.0 Hz, 73468 samples\n",
      "IV.BOB..BHN | 2011-03-11T05:45:08.415000Z - 2011-03-11T06:46:26.115000Z | 20.0 Hz, 73555 samples\n",
      "IV.BOB..BHZ | 2011-03-11T05:45:08.445000Z - 2011-03-11T06:46:29.295000Z | 20.0 Hz, 73618 samples\n"
     ]
    }
   ],
   "source": [
    "import obspy\n",
    "from obspy.fdsn import Client\n",
    "\n",
    "c = Client(\"INGV\")\n",
    "\n",
    "# Event time.\n",
    "event_time = obspy.UTCDateTime(\"2011-03-11T05:46:23.2\")\n",
    "\n",
    "\n",
    "cat = c.get_events(starttime=event_time - 10, endtime=event_time + 10,\n",
    "                   minmagnitude=9)\n",
    "print(cat)\n",
    "\n",
    "inv = c.get_stations(network=\"IV\", station=\"BOB\", level=\"response\")\n",
    "print(inv)\n",
    "\n",
    "st = c.get_waveforms(network=\"IV\", station=\"BOB\", location=\"\",\n",
    "                     channel=\"BH?\", starttime=event_time - 60,\n",
    "                     endtime=event_time + 3600)\n",
    "print(st)"
   ]
  },
  {
   "cell_type": "code",
   "execution_count": null,
   "metadata": {
    "collapsed": true
   },
   "outputs": [],
   "source": [
    "c.get_events(starttime=event_time - 10, endtime=event_time + 10,\n",
    "                   minmagnitude=9, filename=\"./data/tohoku.xml\")\n",
    "c.get_stations(network=\"IV\", station=\"BOB\", level=\"response\")\n",
    "c.get_waveforms(network=\"TA\", station=\"637A\", location=\"\",\n",
    "                channel=\"BH?\", starttime=event_time - 60,\n",
    "                endtime=event_time + 3600)"
   ]
  }
 ],
 "metadata": {
  "kernelspec": {
   "display_name": "Python 3",
   "language": "python",
   "name": "python3"
  },
  "language_info": {
   "codemirror_mode": {
    "name": "ipython",
    "version": 3
   },
   "file_extension": ".py",
   "mimetype": "text/x-python",
   "name": "python",
   "nbconvert_exporter": "python",
   "pygments_lexer": "ipython3",
   "version": "3.4.3"
  }
 },
 "nbformat": 4,
 "nbformat_minor": 0
}
