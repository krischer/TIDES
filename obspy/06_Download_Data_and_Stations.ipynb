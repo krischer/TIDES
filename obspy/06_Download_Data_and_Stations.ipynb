{
 "cells": [
  {
   "cell_type": "markdown",
   "metadata": {
    "collapsed": true
   },
   "source": [
    "<div style=\"background-image:url(images/bertinoro.jpg); padding: 10px 30px 20px 30px; background-size:cover; background-opacity:50%; border-radius:5px\">\n",
    "<p style=\"float:right; margin-top:20px; padding: 20px 20px 0px 20px; background:rgba(255,255,255,0.6); border-radius:10px;\">\n",
    "<img width=\"400px\" src=images/obspy_logo_full_524x179px.png?raw=true>\n",
    "</p>\n",
    "\n",
    "<h1 style=\"color:#333\">First TIDES Training School</h1>\n",
    "<h5 style=\"color:#FFF\">Bertinoro (FC), Italy, June 1-5 2015</h5>\n",
    "\n",
    "<h3 style=\"color:#EEE\">Day 1: Data Acquisition and Processing with ObsPy</h3>\n",
    "\n",
    "<h2 style=\"color:#FFF\">Download Station Information and Waveforms</h2>\n",
    "</div>"
   ]
  },
  {
   "cell_type": "markdown",
   "metadata": {},
   "source": [
    "In this notebook we will download StationXML files and MiniSEED waveforms from the INGV webservice. If this does not work for whatever reason you can find the pre-downloaded data in\n",
    "\n",
    "`~/Desktop/data/earthquake_data/waveforms`\n",
    "\n",
    "and\n",
    "\n",
    "`~/Desktop/data/earthquake_data/stations`\n",
    "\n",
    "This enables you to do the exercises following this one no matter what.\n",
    "\n",
    "---"
   ]
  },
  {
   "cell_type": "code",
   "execution_count": null,
   "metadata": {
    "collapsed": false
   },
   "outputs": [],
   "source": [
    "%pylab inline\n",
    "from __future__ import print_function\n",
    "import matplotlib.pylab as plt\n",
    "plt.style.use('ggplot')\n",
    "plt.rcParams['figure.figsize'] = 12, 8"
   ]
  },
  {
   "cell_type": "markdown",
   "metadata": {},
   "source": [
    "---\n",
    "\n",
    "The first step is to initialize the ObsPy FDSN web service client."
   ]
  },
  {
   "cell_type": "code",
   "execution_count": null,
   "metadata": {
    "collapsed": false
   },
   "outputs": [],
   "source": [
    "from obspy.fdsn import Client\n",
    "\n",
    "client = Client(\"INGV\")\n",
    "\n",
    "print(client)"
   ]
  },
  {
   "cell_type": "markdown",
   "metadata": {},
   "source": [
    "## Step 1: Station Data\n",
    "\n",
    "For each event we aim to download data for each of the following channels (not all of them will have data available for each event):\n",
    "\n",
    "```\n",
    "IV.BDI..BH?\n",
    "IV.BOB..BH?\n",
    "IV.CAVE..HH?\n",
    "SI.LUSI..HH?\n",
    "IV.PESA..BH?\n",
    "IV.PRMA..HH?\n",
    "IV.SALO..BH?\n",
    "IV.TEOL..BH?\n",
    "MN.VLC..HH?\n",
    "```\n",
    "\n",
    "The next cell will download one StationXML file containing information about ALL of these channels. The `get_stations_bulk()` method can be used to download information about a large amount of stations at once."
   ]
  },
  {
   "cell_type": "code",
   "execution_count": null,
   "metadata": {
    "collapsed": false
   },
   "outputs": [],
   "source": [
    "import obspy\n",
    "import os\n",
    "\n",
    "# Create output directory if it does not exist.\n",
    "if not os.path.exists(\"output/stations\"):\n",
    "    os.makedirs(\"output/stations\")\n",
    "\n",
    "# Limit by earliest and latest events. It is usually a good\n",
    "# idea to download station information for a wider time range\n",
    "# as needed.\n",
    "starttime = obspy.UTCDateTime(2011, 12, 1)\n",
    "endtime = obspy.UTCDateTime(2015, 5, 1)\n",
    "stations = [\n",
    "    (\"IV\", \"BDI\", \"\", \"BH?\", starttime, endtime),\n",
    "    (\"IV\", \"BOB\", \"\", \"BH?\", starttime, endtime),\n",
    "    (\"IV\", \"CAVE\", \"\", \"HH?\", starttime, endtime),\n",
    "    (\"SI\", \"LUSI\", \"\", \"HH?\", starttime, endtime),\n",
    "    (\"IV\", \"PESA\", \"\", \"BH?\", starttime, endtime),\n",
    "    (\"IV\", \"PRMA\", \"\", \"HH?\", starttime, endtime),\n",
    "    (\"IV\", \"SALO\", \"\", \"BH?\", starttime, endtime),\n",
    "    (\"IV\", \"TEOL\", \"\", \"BH?\", starttime, endtime),\n",
    "    (\"MN\", \"VLC\", \"\", \"HH?\", starttime, endtime)]\n",
    "\n",
    "# Get it all and plot it.\n",
    "filename = \"output/stations/all_stations.xml\"\n",
    "client.get_stations_bulk(stations, level=\"response\",\n",
    "                         filename=filename)\n",
    "obspy.read_inventory(filename).plot(projection=\"local\", resolution=\"i\");"
   ]
  },
  {
   "cell_type": "markdown",
   "metadata": {},
   "source": [
    "### Exercise: Download station information per station\n",
    "\n",
    "**For all of the above channels, download station information per channel.**\n",
    "\n",
    "```python\n",
    "inv = client.get_stations(network=\"NET\", station=\"STA\", location=\"LOC\",\n",
    "                          channel=\"CHA\", starttime=stime, endtime=etime,\n",
    "                          level=\"response\")\n",
    "inv.write(filename, format=\"stationxml\")\n",
    "```\n",
    "\n",
    "Please note that you can also download it directly to a file by passing\n",
    "a `filename` argument:\n",
    "\n",
    "```python\n",
    "client.get_stations(network=\"NET\", station=\"STA\", location=\"LOC\",\n",
    "                    channel=\"CHA\", starttime=stime, endtime=etime,\n",
    "                    level=\"response\", filename=filename)\n",
    "```\n",
    "\n",
    "Save it in the `output/stations` folder."
   ]
  },
  {
   "cell_type": "code",
   "execution_count": null,
   "metadata": {
    "collapsed": true
   },
   "outputs": [],
   "source": [
    "starttime = obspy.UTCDateTime(2011, 12, 1)\n",
    "endtime = obspy.UTCDateTime(2015, 5, 1)\n",
    "stations = [\n",
    "    (\"IV\", \"BDI\", \"\", \"BH?\"),\n",
    "    (\"IV\", \"BOB\", \"\", \"BH?\"),\n",
    "    (\"IV\", \"CAVE\", \"\", \"HH?\"),\n",
    "    (\"SI\", \"LUSI\", \"\", \"HH?\"),\n",
    "    (\"IV\", \"PESA\", \"\", \"BH?\"),\n",
    "    (\"IV\", \"PRMA\", \"\", \"HH?\"),\n",
    "    (\"IV\", \"SALO\", \"\", \"BH?\"),\n",
    "    (\"IV\", \"TEOL\", \"\", \"BH?\"),\n",
    "    (\"MN\", \"VLC\", \"\", \"HH?\")]\n"
   ]
  },
  {
   "cell_type": "code",
   "execution_count": null,
   "metadata": {
    "collapsed": false
   },
   "outputs": [],
   "source": [
    "ls -l output/stations/"
   ]
  },
  {
   "cell_type": "markdown",
   "metadata": {},
   "source": [
    "## Step 2: Download Data\n",
    "\n",
    "The next step is to download waveform information per event. We will now do it for one event only, as otherwise the network would be hit too hard. Data for all other events can be found at\n",
    "\n",
    "`~/Desktop/data/earthquake_data/waveforms`\n",
    "\n",
    "### Exercise: Download waveform data\n",
    "\n",
    "The purpose of this exercise is to download waveform data for the event stored in\n",
    "\n",
    "```\n",
    "data/GCMT_2014_04_01__Mw_8_1.xml\n",
    "```\n",
    "\n",
    "for all previously mentioned stations and channels. Please download from 5 minutes before the event origin to 1 hour after it.\n",
    "\n",
    "Please note that this interacts with an external service thus it might fail for various reasons. A good construct to use it\n",
    "\n",
    "```python\n",
    "try:\n",
    "    st = c.get_waveforms(network=net, station=sta, location=loc,\n",
    "                         channel=cha, starttime=stime, endtime=etime)\n",
    "    print(\"Sucessfully downloaded %s.%s!\" % (net, sta))\n",
    "except Exception as e:\n",
    "    print(\"Failed to download %s.%s due to: %s\" % (net, sta, str(e)))\n",
    "```\n",
    "\n",
    "Thus your tasks consists of two steps:\n",
    "\n",
    "1. Get the event origin time from the mentioned QuakeML file.\n",
    "2. Download waveform data. Store it in the `output/waveforms` folder. "
   ]
  },
  {
   "cell_type": "code",
   "execution_count": null,
   "metadata": {
    "collapsed": true
   },
   "outputs": [],
   "source": [
    "import os\n",
    "\n",
    "# Create output directory if it does not exist.\n",
    "if not os.path.exists(\"output/waveforms\"):\n",
    "    os.makedirs(\"output/waveforms\")"
   ]
  },
  {
   "cell_type": "code",
   "execution_count": null,
   "metadata": {
    "collapsed": false
   },
   "outputs": [],
   "source": []
  },
  {
   "cell_type": "code",
   "execution_count": null,
   "metadata": {
    "collapsed": false
   },
   "outputs": [],
   "source": []
  },
  {
   "cell_type": "code",
   "execution_count": null,
   "metadata": {
    "collapsed": false
   },
   "outputs": [],
   "source": [
    "ls -l output/waveforms/"
   ]
  }
 ],
 "metadata": {
  "kernelspec": {
   "display_name": "Python 3",
   "language": "python",
   "name": "python3"
  },
  "language_info": {
   "codemirror_mode": {
    "name": "ipython",
    "version": 3
   },
   "file_extension": ".py",
   "mimetype": "text/x-python",
   "name": "python",
   "nbconvert_exporter": "python",
   "pygments_lexer": "ipython3",
   "version": "3.4.3"
  }
 },
 "nbformat": 4,
 "nbformat_minor": 0
}
